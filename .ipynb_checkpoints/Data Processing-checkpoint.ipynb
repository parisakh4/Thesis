{
 "cells": [
  {
   "cell_type": "code",
   "execution_count": 1,
   "id": "273adfc3-4350-4692-96d2-7ca2ab03c1ef",
   "metadata": {},
   "outputs": [],
   "source": [
    "import pandas as pd\n",
    "import numpy as np\n",
    "import matplotlib.pyplot as plt\n",
    "import seaborn as sns"
   ]
  },
  {
   "cell_type": "markdown",
   "id": "b1cf28bc-6be3-49c6-a352-f3273e9ca5b8",
   "metadata": {},
   "source": [
    "Loading and Combining the datasets"
   ]
  },
  {
   "cell_type": "code",
   "execution_count": null,
   "id": "f0249571-1cbf-4d04-9cd2-128e80676fb2",
   "metadata": {},
   "outputs": [],
   "source": [
    "# Load the separate datasets\n",
    "red = pd.read_csv('Data/Real_Datasets/winequality-red.csv', sep=';')\n",
    "white = pd.read_csv('Data/Real_Datasets/winequality-white.csv', sep=';')\n",
    "\n",
    "# Add a 'type' column to distinguish between red and white wines\n",
    "red['type'] = 'red'\n",
    "white['type'] = 'white'\n",
    "\n",
    "# Combine datasets\n",
    "wine_df = pd.concat([red, white], ignore_index=True)\n",
    "\n",
    "# Display the shape of the combined dataset\n",
    "print(wine_df.shape)  # Output: (6497, 13)\n",
    "\n",
    "#save the combined unprocessed dataset\n",
    "wine_df.to_csv(\"Data/Real_Datasets/wine_unprocessed.csv\", index=False)"
   ]
  },
  {
   "cell_type": "code",
   "execution_count": null,
   "id": "98bf1fb0-ef3b-4513-897a-06e5f67276b7",
   "metadata": {},
   "outputs": [],
   "source": [
    "Data exploration"
   ]
  },
  {
   "cell_type": "code",
   "execution_count": null,
   "id": "734eb5ae-7153-48c6-b12a-1bcde0fd8248",
   "metadata": {},
   "outputs": [],
   "source": [
    "print(wine_df.head())\n",
    "\n",
    "print(wine_df.dtypes)\n",
    "\n",
    "# Get summary statistics\n",
    "print(wine_df.describe())\n",
    "\n",
    "# Check for missing values\n",
    "print(wine_df.isnull().sum())"
   ]
  },
  {
   "cell_type": "code",
   "execution_count": null,
   "id": "7c2cec2a-a6a1-45e1-b591-78616b90511c",
   "metadata": {},
   "outputs": [],
   "source": [
    "# Visual check for normality\n",
    "wine_df.hist(bins=30, figsize=(15, 10))\n",
    "plt.suptitle(\"Histogram of Each Feature (Wine Quality - Cleaned)\", fontsize=16)\n",
    "plt.show()"
   ]
  },
  {
   "cell_type": "markdown",
   "id": "d462675b-5cd1-4e13-af7e-5819772b3180",
   "metadata": {},
   "source": [
    "Scaling and Normalizing\n",
    "As shown in the histograms, not all the features are normally distributed. The only feature that is close to bell-shaped is PH. Quality, citric acid, alcohol, fixed acidity, density and Sulphates are moderately skewed. The rest of the features are heavily right-skewed and not normal, including residual sugar which is very skewed, chlorides, free sulfur dioxide, total sulfur dioxide, volatile acidity. Since Pearson correlation assumes that the data is normally distributed, the heavily skewed columns are transformed by np.log1p(), which reduces the right-skewness. Then we apply Standardization to all of the features which works better for roughly normal data.  "
   ]
  },
  {
   "cell_type": "code",
   "execution_count": null,
   "id": "f2382223-c0a3-4c79-974c-a382c606b8a0",
   "metadata": {},
   "outputs": [],
   "source": [
    "skewed_cols = [\n",
    "    'residual sugar', 'chlorides', 'free sulfur dioxide',\n",
    "    'total sulfur dioxide', 'volatile acidity'\n",
    "]\n",
    "\n",
    "for col in skewed_cols:\n",
    "    wine_df[col] = np.log1p(wine_df[col])"
   ]
  },
  {
   "cell_type": "code",
   "execution_count": null,
   "id": "d2865b02-75f1-4505-9cc0-0d5162c854b1",
   "metadata": {},
   "outputs": [],
   "source": [
    "from sklearn.preprocessing import StandardScaler\n",
    "\n",
    "numeric_cols = wine_df.select_dtypes(include=['float64', 'int64']).columns\n",
    "scaler = StandardScaler()\n",
    "wine_df[numeric_cols] = scaler.fit_transform(wine_df[numeric_cols])\n",
    "\n",
    "print(wine_df.describe().T[['mean', 'std']])\n"
   ]
  },
  {
   "cell_type": "code",
   "execution_count": null,
   "id": "d6a8384e-b11d-4bf5-8273-92ae1f97ef52",
   "metadata": {},
   "outputs": [],
   "source": [
    "Histogram after scaling"
   ]
  },
  {
   "cell_type": "code",
   "execution_count": null,
   "id": "001848e1-f9b0-47d8-9006-ce38b1254838",
   "metadata": {},
   "outputs": [],
   "source": [
    "numeric_cols = wine_df.select_dtypes(include=['float64', 'int64']).columns\n",
    "n_cols = 3  # charts per row\n",
    "n_rows = (len(numeric_cols) + n_cols - 1) // n_cols  # auto-calculate rows\n",
    "\n",
    "plt.figure(figsize=(15, 4 * n_rows))\n",
    "\n",
    "for i, col in enumerate(numeric_cols, 1):\n",
    "    plt.subplot(n_rows, n_cols, i)\n",
    "    sns.histplot(wine_df[col], kde=True)\n",
    "    plt.title(f\"{col}\")\n",
    "    plt.tight_layout()\n",
    "\n",
    "plt.suptitle(\"Standardized Feature Distributions\", fontsize=16, y=1.02)\n",
    "plt.show()"
   ]
  },
  {
   "cell_type": "code",
   "execution_count": null,
   "id": "db645bcd-b0d2-4bea-9ab1-a52bee66d157",
   "metadata": {},
   "outputs": [],
   "source": [
    "#saving the processed dataset\n",
    "wine_df.to_csv(\"Data/Real_Datasets/wine_processed.csv\", index=False)"
   ]
  },
  {
   "cell_type": "markdown",
   "id": "f093420c-b9fa-4651-8b10-f1bdaa94af7c",
   "metadata": {},
   "source": [
    "Checking the Pearson and Spearman correlations for original data"
   ]
  },
  {
   "cell_type": "code",
   "execution_count": null,
   "id": "9e66f38f-c8fa-413a-8e78-be6e547d1d84",
   "metadata": {},
   "outputs": [],
   "source": [
    "#loading the unprocessed dataset\n",
    "\n",
    "wine_df_org = pd.read_csv(\"Data/Real_Datasets/wine_unprocessed\", sep=';')\n",
    "\n",
    "# Only use numeric columns for correlation\n",
    "numeric_df = wine_df_org.select_dtypes(include=['float64', 'int64'])\n",
    "\n",
    "# Pearson and Spearman Correlation\n",
    "pearson_corr = numeric_df.corr(method='pearson')\n",
    "spearman_corr = numeric_df.corr(method='spearman')\n",
    "\n",
    "# Create subplots side by side\n",
    "fig, axes = plt.subplots(1, 2, figsize=(24, 10))  # 1 row, 2 columns\n",
    "\n",
    "# Pearson plot\n",
    "sns.heatmap(pearson_corr, annot=True, fmt=\".2f\", cmap='coolwarm', ax=axes[0])\n",
    "axes[0].set_title(\"Pearson Correlation Matrix\")\n",
    "\n",
    "# Spearman plot\n",
    "sns.heatmap(spearman_corr, annot=True, fmt=\".2f\", cmap='coolwarm', ax=axes[1])\n",
    "axes[1].set_title(\"Spearman Correlation Matrix\")\n",
    "\n",
    "plt.tight_layout()\n",
    "plt.show()"
   ]
  },
  {
   "cell_type": "markdown",
   "id": "6c6e343e-3491-440e-8cb4-cb5e6f61d95b",
   "metadata": {},
   "source": [
    "Pearson ans Spearman for the processed data"
   ]
  },
  {
   "cell_type": "code",
   "execution_count": null,
   "id": "91df2111-ed10-40d4-968d-d7642ef3b3db",
   "metadata": {},
   "outputs": [],
   "source": [
    "# Pearson and Spearman Correlation (Standardized Data)\n",
    "pearson_corr = wine_df.corr(method='pearson')\n",
    "spearman_corr = wine_df.corr(method='spearman')\n",
    "\n",
    "# Create side-by-side plots\n",
    "fig, axes = plt.subplots(1, 2, figsize=(24, 10))  # 1 row, 2 columns\n",
    "\n",
    "# Pearson plot\n",
    "sns.heatmap(pearson_corr, annot=True, fmt=\".2f\", cmap='coolwarm', ax=axes[0])\n",
    "axes[0].set_title(\"Pearson Correlation Matrix (Standardized Data)\")\n",
    "\n",
    "# Spearman plot\n",
    "sns.heatmap(spearman_corr, annot=True, fmt=\".2f\", cmap='coolwarm', ax=axes[1])\n",
    "axes[1].set_title(\"Spearman Correlation Matrix (Standardized Data)\")\n",
    "\n",
    "plt.tight_layout()\n",
    "plt.show()"
   ]
  },
  {
   "cell_type": "code",
   "execution_count": 2,
   "id": "e92bbebb-b068-47f4-9eae-206e675ad12c",
   "metadata": {},
   "outputs": [
    {
     "data": {
      "text/plain": [
       "'/Users/parisakhosravi/analysis'"
      ]
     },
     "execution_count": 2,
     "metadata": {},
     "output_type": "execute_result"
    }
   ],
   "source": [
    "import os\n",
    "os.getcwd()"
   ]
  },
  {
   "cell_type": "code",
   "execution_count": null,
   "id": "b54ec06d-990b-4175-8a11-88b0a9c3f085",
   "metadata": {},
   "outputs": [],
   "source": []
  }
 ],
 "metadata": {
  "kernelspec": {
   "display_name": "Python 3 (ipykernel)",
   "language": "python",
   "name": "python3"
  },
  "language_info": {
   "codemirror_mode": {
    "name": "ipython",
    "version": 3
   },
   "file_extension": ".py",
   "mimetype": "text/x-python",
   "name": "python",
   "nbconvert_exporter": "python",
   "pygments_lexer": "ipython3",
   "version": "3.9.6"
  }
 },
 "nbformat": 4,
 "nbformat_minor": 5
}

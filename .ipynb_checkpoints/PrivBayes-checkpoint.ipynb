{
 "cells": [
  {
   "cell_type": "code",
   "execution_count": null,
   "id": "6a59aec5-8280-4d1c-b207-dc6d6cf3b50f",
   "metadata": {},
   "outputs": [],
   "source": [
    "import pandas as pd\n",
    "from DataSynthesizer.lib.PrivBayes import PrivBayes\n",
    "\n",
    "# Load your data\n",
    "df = pd.read_csv(\"Data/Real_Datasets/wine_processed.csv\")\n",
    "\n",
    "# Optional: Check if everything is clean\n",
    "print(df.dtypes)\n",
    "print(df.isna().sum())\n",
    "\n",
    "# Initialize and train PrivBayes\n",
    "pb = PrivBayes(epsilon=1.0)  # You can try 0.1, 1.0, 10.0 to see how privacy affects results\n",
    "pb.fit(df)\n",
    "\n",
    "# Generate synthetic data\n",
    "synthetic_df = pb.sample(n=df.shape[0])\n",
    "\n",
    "# Save it\n",
    "synthetic_df.to_csv(\"privbayes_wine.csv\", index=False)\n",
    "print(\"Done! Synthetic dataset saved.\")\n"
   ]
  }
 ],
 "metadata": {
  "kernelspec": {
   "display_name": "Python 3 (ipykernel)",
   "language": "python",
   "name": "python3"
  },
  "language_info": {
   "codemirror_mode": {
    "name": "ipython",
    "version": 3
   },
   "file_extension": ".py",
   "mimetype": "text/x-python",
   "name": "python",
   "nbconvert_exporter": "python",
   "pygments_lexer": "ipython3",
   "version": "3.9.6"
  }
 },
 "nbformat": 4,
 "nbformat_minor": 5
}

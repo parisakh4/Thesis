{
 "cells": [
  {
   "cell_type": "code",
   "execution_count": 1,
   "id": "f5241300-1d4e-47ac-8ab3-dffc3cd3a385",
   "metadata": {},
   "outputs": [
    {
     "name": "stdout",
     "output_type": "stream",
     "text": [
      "Collecting sdv\n",
      "  Downloading sdv-1.24.0-py3-none-any.whl.metadata (14 kB)\n",
      "Collecting boto3<2.0.0,>=1.28 (from sdv)\n",
      "  Downloading boto3-1.39.1-py3-none-any.whl.metadata (6.6 kB)\n",
      "Collecting botocore<2.0.0,>=1.31 (from sdv)\n",
      "  Downloading botocore-1.39.1-py3-none-any.whl.metadata (5.7 kB)\n",
      "Collecting cloudpickle>=2.1.0 (from sdv)\n",
      "  Using cached cloudpickle-3.1.1-py3-none-any.whl.metadata (7.1 kB)\n",
      "Collecting graphviz>=0.13.2 (from sdv)\n",
      "  Using cached graphviz-0.21-py3-none-any.whl.metadata (12 kB)\n",
      "Requirement already satisfied: numpy>=2.1.0 in /Users/parisakhosravi/miniconda3/lib/python3.13/site-packages (from sdv) (2.3.1)\n",
      "Requirement already satisfied: pandas>=2.2.3 in /Users/parisakhosravi/miniconda3/lib/python3.13/site-packages (from sdv) (2.3.0)\n",
      "Requirement already satisfied: tqdm>=4.29 in /Users/parisakhosravi/miniconda3/lib/python3.13/site-packages (from sdv) (4.67.1)\n",
      "Collecting copulas>=0.12.1 (from sdv)\n",
      "  Using cached copulas-0.12.3-py3-none-any.whl.metadata (9.5 kB)\n",
      "Collecting ctgan>=0.11.0 (from sdv)\n",
      "  Using cached ctgan-0.11.0-py3-none-any.whl.metadata (10 kB)\n",
      "Collecting deepecho>=0.7.0 (from sdv)\n",
      "  Using cached deepecho-0.7.0-py3-none-any.whl.metadata (10 kB)\n",
      "Collecting rdt>=1.17.0 (from sdv)\n",
      "  Downloading rdt-1.17.1-py3-none-any.whl.metadata (10 kB)\n",
      "Collecting sdmetrics>=0.21.0 (from sdv)\n",
      "  Using cached sdmetrics-0.21.0-py3-none-any.whl.metadata (9.4 kB)\n",
      "Requirement already satisfied: platformdirs>=4.0 in /Users/parisakhosravi/miniconda3/lib/python3.13/site-packages (from sdv) (4.3.7)\n",
      "Collecting pyyaml>=6.0.1 (from sdv)\n",
      "  Downloading PyYAML-6.0.2-cp313-cp313-macosx_11_0_arm64.whl.metadata (2.1 kB)\n",
      "Collecting jmespath<2.0.0,>=0.7.1 (from boto3<2.0.0,>=1.28->sdv)\n",
      "  Using cached jmespath-1.0.1-py3-none-any.whl.metadata (7.6 kB)\n",
      "Collecting s3transfer<0.14.0,>=0.13.0 (from boto3<2.0.0,>=1.28->sdv)\n",
      "  Using cached s3transfer-0.13.0-py3-none-any.whl.metadata (1.7 kB)\n",
      "Requirement already satisfied: python-dateutil<3.0.0,>=2.1 in /Users/parisakhosravi/miniconda3/lib/python3.13/site-packages (from botocore<2.0.0,>=1.31->sdv) (2.9.0.post0)\n",
      "Requirement already satisfied: urllib3!=2.2.0,<3,>=1.25.4 in /Users/parisakhosravi/miniconda3/lib/python3.13/site-packages (from botocore<2.0.0,>=1.31->sdv) (2.3.0)\n",
      "Collecting plotly>=5.12.0 (from copulas>=0.12.1->sdv)\n",
      "  Downloading plotly-6.2.0-py3-none-any.whl.metadata (8.5 kB)\n",
      "Requirement already satisfied: scipy>=1.14.1 in /Users/parisakhosravi/miniconda3/lib/python3.13/site-packages (from copulas>=0.12.1->sdv) (1.16.0)\n",
      "Collecting torch>=2.6.0 (from ctgan>=0.11.0->sdv)\n",
      "  Downloading torch-2.7.1-cp313-none-macosx_11_0_arm64.whl.metadata (29 kB)\n",
      "Requirement already satisfied: pytz>=2020.1 in /Users/parisakhosravi/miniconda3/lib/python3.13/site-packages (from pandas>=2.2.3->sdv) (2025.2)\n",
      "Requirement already satisfied: tzdata>=2022.7 in /Users/parisakhosravi/miniconda3/lib/python3.13/site-packages (from pandas>=2.2.3->sdv) (2025.2)\n",
      "Requirement already satisfied: scikit-learn>=1.5.2 in /Users/parisakhosravi/miniconda3/lib/python3.13/site-packages (from rdt>=1.17.0->sdv) (1.7.0)\n",
      "Collecting Faker>=17 (from rdt>=1.17.0->sdv)\n",
      "  Using cached faker-37.4.0-py3-none-any.whl.metadata (15 kB)\n",
      "Collecting narwhals>=1.15.1 (from plotly>=5.12.0->copulas>=0.12.1->sdv)\n",
      "  Downloading narwhals-1.45.0-py3-none-any.whl.metadata (11 kB)\n",
      "Requirement already satisfied: packaging in /Users/parisakhosravi/miniconda3/lib/python3.13/site-packages (from plotly>=5.12.0->copulas>=0.12.1->sdv) (24.2)\n",
      "Requirement already satisfied: six>=1.5 in /Users/parisakhosravi/miniconda3/lib/python3.13/site-packages (from python-dateutil<3.0.0,>=2.1->botocore<2.0.0,>=1.31->sdv) (1.17.0)\n",
      "Requirement already satisfied: joblib>=1.2.0 in /Users/parisakhosravi/miniconda3/lib/python3.13/site-packages (from scikit-learn>=1.5.2->rdt>=1.17.0->sdv) (1.5.1)\n",
      "Requirement already satisfied: threadpoolctl>=3.1.0 in /Users/parisakhosravi/miniconda3/lib/python3.13/site-packages (from scikit-learn>=1.5.2->rdt>=1.17.0->sdv) (3.6.0)\n",
      "Collecting filelock (from torch>=2.6.0->ctgan>=0.11.0->sdv)\n",
      "  Using cached filelock-3.18.0-py3-none-any.whl.metadata (2.9 kB)\n",
      "Requirement already satisfied: typing-extensions>=4.10.0 in /Users/parisakhosravi/miniconda3/lib/python3.13/site-packages (from torch>=2.6.0->ctgan>=0.11.0->sdv) (4.12.2)\n",
      "Requirement already satisfied: setuptools in /Users/parisakhosravi/miniconda3/lib/python3.13/site-packages (from torch>=2.6.0->ctgan>=0.11.0->sdv) (78.1.1)\n",
      "Collecting sympy>=1.13.3 (from torch>=2.6.0->ctgan>=0.11.0->sdv)\n",
      "  Using cached sympy-1.14.0-py3-none-any.whl.metadata (12 kB)\n",
      "Collecting networkx (from torch>=2.6.0->ctgan>=0.11.0->sdv)\n",
      "  Downloading networkx-3.5-py3-none-any.whl.metadata (6.3 kB)\n",
      "Collecting jinja2 (from torch>=2.6.0->ctgan>=0.11.0->sdv)\n",
      "  Using cached jinja2-3.1.6-py3-none-any.whl.metadata (2.9 kB)\n",
      "Collecting fsspec (from torch>=2.6.0->ctgan>=0.11.0->sdv)\n",
      "  Using cached fsspec-2025.5.1-py3-none-any.whl.metadata (11 kB)\n",
      "Collecting mpmath<1.4,>=1.1.0 (from sympy>=1.13.3->torch>=2.6.0->ctgan>=0.11.0->sdv)\n",
      "  Using cached mpmath-1.3.0-py3-none-any.whl.metadata (8.6 kB)\n",
      "Collecting MarkupSafe>=2.0 (from jinja2->torch>=2.6.0->ctgan>=0.11.0->sdv)\n",
      "  Downloading MarkupSafe-3.0.2-cp313-cp313-macosx_11_0_arm64.whl.metadata (4.0 kB)\n",
      "Downloading sdv-1.24.0-py3-none-any.whl (182 kB)\n",
      "Downloading boto3-1.39.1-py3-none-any.whl (139 kB)\n",
      "Downloading botocore-1.39.1-py3-none-any.whl (13.8 MB)\n",
      "\u001b[2K   \u001b[90m━━━━━━━━━━━━━━━━━━━━━━━━━━━━━━━━━━━━━━━━\u001b[0m \u001b[32m13.8/13.8 MB\u001b[0m \u001b[31m13.4 MB/s\u001b[0m eta \u001b[36m0:00:00\u001b[0m00:01\u001b[0m00:01\u001b[0m\n",
      "\u001b[?25hUsing cached cloudpickle-3.1.1-py3-none-any.whl (20 kB)\n",
      "Using cached copulas-0.12.3-py3-none-any.whl (52 kB)\n",
      "Using cached ctgan-0.11.0-py3-none-any.whl (24 kB)\n",
      "Using cached deepecho-0.7.0-py3-none-any.whl (27 kB)\n",
      "Using cached graphviz-0.21-py3-none-any.whl (47 kB)\n",
      "Downloading PyYAML-6.0.2-cp313-cp313-macosx_11_0_arm64.whl (171 kB)\n",
      "Downloading rdt-1.17.1-py3-none-any.whl (73 kB)\n",
      "Using cached sdmetrics-0.21.0-py3-none-any.whl (193 kB)\n",
      "Using cached faker-37.4.0-py3-none-any.whl (1.9 MB)\n",
      "Using cached jmespath-1.0.1-py3-none-any.whl (20 kB)\n",
      "Downloading plotly-6.2.0-py3-none-any.whl (9.6 MB)\n",
      "\u001b[2K   \u001b[90m━━━━━━━━━━━━━━━━━━━━━━━━━━━━━━━━━━━━━━━━\u001b[0m \u001b[32m9.6/9.6 MB\u001b[0m \u001b[31m13.1 MB/s\u001b[0m eta \u001b[36m0:00:00\u001b[0ma \u001b[36m0:00:01\u001b[0m\n",
      "\u001b[?25hUsing cached s3transfer-0.13.0-py3-none-any.whl (85 kB)\n",
      "Downloading torch-2.7.1-cp313-none-macosx_11_0_arm64.whl (68.6 MB)\n",
      "\u001b[2K   \u001b[90m━━━━━━━━━━━━━━━━━━━━━━━━━━━━━━━━━━━━━━━━\u001b[0m \u001b[32m68.6/68.6 MB\u001b[0m \u001b[31m13.0 MB/s\u001b[0m eta \u001b[36m0:00:00\u001b[0ma \u001b[36m0:00:01\u001b[0m\n",
      "\u001b[?25hDownloading narwhals-1.45.0-py3-none-any.whl (371 kB)\n",
      "Using cached sympy-1.14.0-py3-none-any.whl (6.3 MB)\n",
      "Using cached filelock-3.18.0-py3-none-any.whl (16 kB)\n",
      "Using cached fsspec-2025.5.1-py3-none-any.whl (199 kB)\n",
      "Using cached jinja2-3.1.6-py3-none-any.whl (134 kB)\n",
      "Downloading networkx-3.5-py3-none-any.whl (2.0 MB)\n",
      "\u001b[2K   \u001b[90m━━━━━━━━━━━━━━━━━━━━━━━━━━━━━━━━━━━━━━━━\u001b[0m \u001b[32m2.0/2.0 MB\u001b[0m \u001b[31m11.7 MB/s\u001b[0m eta \u001b[36m0:00:00\u001b[0m\n",
      "\u001b[?25hDownloading MarkupSafe-3.0.2-cp313-cp313-macosx_11_0_arm64.whl (12 kB)\n",
      "Using cached mpmath-1.3.0-py3-none-any.whl (536 kB)\n",
      "Installing collected packages: mpmath, sympy, pyyaml, networkx, narwhals, MarkupSafe, jmespath, graphviz, fsspec, filelock, Faker, cloudpickle, plotly, jinja2, botocore, torch, s3transfer, rdt, copulas, sdmetrics, deepecho, ctgan, boto3, sdv\n",
      "Successfully installed Faker-37.4.0 MarkupSafe-3.0.2 boto3-1.39.1 botocore-1.39.1 cloudpickle-3.1.1 copulas-0.12.3 ctgan-0.11.0 deepecho-0.7.0 filelock-3.18.0 fsspec-2025.5.1 graphviz-0.21 jinja2-3.1.6 jmespath-1.0.1 mpmath-1.3.0 narwhals-1.45.0 networkx-3.5 plotly-6.2.0 pyyaml-6.0.2 rdt-1.17.1 s3transfer-0.13.0 sdmetrics-0.21.0 sdv-1.24.0 sympy-1.14.0 torch-2.7.1\n"
     ]
    }
   ],
   "source": [
    "!pip install sdv\n"
   ]
  },
  {
   "cell_type": "code",
   "execution_count": 9,
   "id": "1f0b3323-aa83-4d73-a11b-8099e8485265",
   "metadata": {},
   "outputs": [],
   "source": [
    "from sdv.single_table import GaussianCopulaSynthesizer\n",
    "from sdv.metadata import Metadata\n",
    "import pandas as pd"
   ]
  },
  {
   "cell_type": "code",
   "execution_count": 10,
   "id": "a219ff83-a974-4d58-9fac-bf0382ca8f35",
   "metadata": {},
   "outputs": [],
   "source": [
    "df = pd.read_csv(\"Data/Real_Datasets/wine_processed.csv\")"
   ]
  },
  {
   "cell_type": "code",
   "execution_count": 16,
   "id": "e64943b9-bd08-4e65-b7d9-1549c7da8ff8",
   "metadata": {},
   "outputs": [],
   "source": [
    "# Define your metadata\n",
    "metadata = SingleTableMetadata()\n",
    "metadata.detect_from_dataframe(df)\n",
    "\n",
    "# (Optional) Save for reproducibility\n",
    "metadata.save_to_json(\"my_metadata.json\")"
   ]
  },
  {
   "cell_type": "code",
   "execution_count": 17,
   "id": "037eb362-d21e-43cb-aeab-102a07560ebb",
   "metadata": {},
   "outputs": [
    {
     "name": "stderr",
     "output_type": "stream",
     "text": [
      "/Users/parisakhosravi/Library/Python/3.9/lib/python/site-packages/sdv/single_table/base.py:144: FutureWarning:\n",
      "\n",
      "The 'SingleTableMetadata' is deprecated. Please use the new 'Metadata' class for synthesizers.\n",
      "\n"
     ]
    }
   ],
   "source": [
    "synthesizer = GaussianCopulaSynthesizer(metadata)"
   ]
  },
  {
   "cell_type": "code",
   "execution_count": 19,
   "id": "f5a0426e-22d6-4a53-803a-9adab0ddfc42",
   "metadata": {},
   "outputs": [],
   "source": [
    "# 4. Fit model\n",
    "synthesizer.fit(df)"
   ]
  },
  {
   "cell_type": "code",
   "execution_count": 20,
   "id": "197f1477-c529-4de3-9b92-76b9953717cb",
   "metadata": {},
   "outputs": [
    {
     "name": "stdout",
     "output_type": "stream",
     "text": [
      "✅ Saved: Data/Synthetic_Datasets/GaussianCopula/fake_gaussian_data_1.csv\n",
      "✅ Saved: Data/Synthetic_Datasets/GaussianCopula/fake_gaussian_data_2.csv\n",
      "✅ Saved: Data/Synthetic_Datasets/GaussianCopula/fake_gaussian_data_3.csv\n",
      "✅ Saved: Data/Synthetic_Datasets/GaussianCopula/fake_gaussian_data_4.csv\n",
      "✅ Saved: Data/Synthetic_Datasets/GaussianCopula/fake_gaussian_data_5.csv\n"
     ]
    }
   ],
   "source": [
    "# Generate and save 5 synthetic datasets\n",
    "for i in range(1, 6):\n",
    "    synthetic_data = synthesizer.sample(num_rows=len(df))\n",
    "    path = f\"Data/Synthetic_Datasets/GaussianCopula/fake_gaussian_data_{i}.csv\"\n",
    "    synthetic_data.to_csv(path, index=False)\n",
    "    print(f\"✅ Saved: {path}\")"
   ]
  },
  {
   "cell_type": "code",
   "execution_count": null,
   "id": "6fd9f62c-f871-4f34-85a9-909457f4aeaa",
   "metadata": {},
   "outputs": [],
   "source": [
    "# 5. Generate synthetic data\n",
    "synthetic_data = synthesizer.sample(num_rows=len(df))"
   ]
  },
  {
   "cell_type": "code",
   "execution_count": null,
   "id": "c84ce21f-4faa-4d67-b538-9e59bdf11454",
   "metadata": {},
   "outputs": [],
   "source": [
    "# 6. Save synthetic dataset\n",
    "synthetic_data.to_csv(\"Data/Synthetic_Datasets/GaussianCopula/fake_gaussian_data.csv\", index=False)"
   ]
  }
 ],
 "metadata": {
  "kernelspec": {
   "display_name": "Python 3 (ipykernel)",
   "language": "python",
   "name": "python3"
  },
  "language_info": {
   "codemirror_mode": {
    "name": "ipython",
    "version": 3
   },
   "file_extension": ".py",
   "mimetype": "text/x-python",
   "name": "python",
   "nbconvert_exporter": "python",
   "pygments_lexer": "ipython3",
   "version": "3.9.6"
  }
 },
 "nbformat": 4,
 "nbformat_minor": 5
}

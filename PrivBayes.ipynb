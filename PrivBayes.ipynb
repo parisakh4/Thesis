{
 "cells": [
  {
   "cell_type": "code",
   "execution_count": 5,
   "id": "f3f9ca84-d69f-43dd-98c0-cf920d31fc1c",
   "metadata": {},
   "outputs": [
    {
     "name": "stdout",
     "output_type": "stream",
     "text": [
      "Defaulting to user installation because normal site-packages is not writeable\n",
      "Collecting DataSynthesizer\n",
      "  Using cached DataSynthesizer-0.1.13-py2.py3-none-any.whl.metadata (4.7 kB)\n",
      "Requirement already satisfied: numpy>=1.18.5 in /Users/parisakhosravi/Library/Python/3.9/lib/python/site-packages (from DataSynthesizer) (2.0.2)\n",
      "Requirement already satisfied: pandas>=1.0.5 in /Users/parisakhosravi/Library/Python/3.9/lib/python/site-packages (from DataSynthesizer) (2.2.3)\n",
      "Requirement already satisfied: scikit-learn>=0.23.1 in /Users/parisakhosravi/Library/Python/3.9/lib/python/site-packages (from DataSynthesizer) (1.6.1)\n",
      "Requirement already satisfied: matplotlib>=3.2.2 in /Users/parisakhosravi/Library/Python/3.9/lib/python/site-packages (from DataSynthesizer) (3.9.4)\n",
      "Requirement already satisfied: seaborn>=0.10.1 in /Users/parisakhosravi/Library/Python/3.9/lib/python/site-packages (from DataSynthesizer) (0.13.2)\n",
      "Requirement already satisfied: python-dateutil>=2.8.1 in /Users/parisakhosravi/Library/Python/3.9/lib/python/site-packages (from DataSynthesizer) (2.9.0.post0)\n",
      "Requirement already satisfied: contourpy>=1.0.1 in /Users/parisakhosravi/Library/Python/3.9/lib/python/site-packages (from matplotlib>=3.2.2->DataSynthesizer) (1.3.0)\n",
      "Requirement already satisfied: cycler>=0.10 in /Users/parisakhosravi/Library/Python/3.9/lib/python/site-packages (from matplotlib>=3.2.2->DataSynthesizer) (0.12.1)\n",
      "Requirement already satisfied: fonttools>=4.22.0 in /Users/parisakhosravi/Library/Python/3.9/lib/python/site-packages (from matplotlib>=3.2.2->DataSynthesizer) (4.58.1)\n",
      "Requirement already satisfied: kiwisolver>=1.3.1 in /Users/parisakhosravi/Library/Python/3.9/lib/python/site-packages (from matplotlib>=3.2.2->DataSynthesizer) (1.4.7)\n",
      "Requirement already satisfied: packaging>=20.0 in /Users/parisakhosravi/Library/Python/3.9/lib/python/site-packages (from matplotlib>=3.2.2->DataSynthesizer) (25.0)\n",
      "Requirement already satisfied: pillow>=8 in /Users/parisakhosravi/Library/Python/3.9/lib/python/site-packages (from matplotlib>=3.2.2->DataSynthesizer) (11.2.1)\n",
      "Requirement already satisfied: pyparsing>=2.3.1 in /Users/parisakhosravi/Library/Python/3.9/lib/python/site-packages (from matplotlib>=3.2.2->DataSynthesizer) (3.2.3)\n",
      "Requirement already satisfied: importlib-resources>=3.2.0 in /Users/parisakhosravi/Library/Python/3.9/lib/python/site-packages (from matplotlib>=3.2.2->DataSynthesizer) (6.5.2)\n",
      "Requirement already satisfied: zipp>=3.1.0 in /Users/parisakhosravi/Library/Python/3.9/lib/python/site-packages (from importlib-resources>=3.2.0->matplotlib>=3.2.2->DataSynthesizer) (3.21.0)\n",
      "Requirement already satisfied: pytz>=2020.1 in /Users/parisakhosravi/Library/Python/3.9/lib/python/site-packages (from pandas>=1.0.5->DataSynthesizer) (2025.2)\n",
      "Requirement already satisfied: tzdata>=2022.7 in /Users/parisakhosravi/Library/Python/3.9/lib/python/site-packages (from pandas>=1.0.5->DataSynthesizer) (2025.2)\n",
      "Requirement already satisfied: six>=1.5 in /Library/Developer/CommandLineTools/Library/Frameworks/Python3.framework/Versions/3.9/lib/python3.9/site-packages (from python-dateutil>=2.8.1->DataSynthesizer) (1.15.0)\n",
      "Requirement already satisfied: scipy>=1.6.0 in /Users/parisakhosravi/Library/Python/3.9/lib/python/site-packages (from scikit-learn>=0.23.1->DataSynthesizer) (1.13.1)\n",
      "Requirement already satisfied: joblib>=1.2.0 in /Users/parisakhosravi/Library/Python/3.9/lib/python/site-packages (from scikit-learn>=0.23.1->DataSynthesizer) (1.5.0)\n",
      "Requirement already satisfied: threadpoolctl>=3.1.0 in /Users/parisakhosravi/Library/Python/3.9/lib/python/site-packages (from scikit-learn>=0.23.1->DataSynthesizer) (3.6.0)\n",
      "Using cached DataSynthesizer-0.1.13-py2.py3-none-any.whl (24 kB)\n",
      "Installing collected packages: DataSynthesizer\n",
      "Successfully installed DataSynthesizer-0.1.13\n",
      "Note: you may need to restart the kernel to use updated packages.\n"
     ]
    }
   ],
   "source": [
    "%pip install DataSynthesizer\n"
   ]
  },
  {
   "cell_type": "code",
   "execution_count": 6,
   "id": "6a59aec5-8280-4d1c-b207-dc6d6cf3b50f",
   "metadata": {},
   "outputs": [],
   "source": [
    "import pandas as pd\n",
    "from DataSynthesizer.DataDescriber import DataDescriber\n",
    "from DataSynthesizer.DataGenerator import DataGenerator"
   ]
  },
  {
   "cell_type": "code",
   "execution_count": 14,
   "id": "55f1e2eb-915d-4f46-a98d-0a4a3b569ef9",
   "metadata": {},
   "outputs": [
    {
     "name": "stdout",
     "output_type": "stream",
     "text": [
      "fixed acidity           float64\n",
      "volatile acidity        float64\n",
      "citric acid             float64\n",
      "residual sugar          float64\n",
      "chlorides               float64\n",
      "free sulfur dioxide     float64\n",
      "total sulfur dioxide    float64\n",
      "density                 float64\n",
      "pH                      float64\n",
      "sulphates               float64\n",
      "alcohol                 float64\n",
      "quality                 float64\n",
      "type                     object\n",
      "dtype: object\n",
      "fixed acidity           0\n",
      "volatile acidity        0\n",
      "citric acid             0\n",
      "residual sugar          0\n",
      "chlorides               0\n",
      "free sulfur dioxide     0\n",
      "total sulfur dioxide    0\n",
      "density                 0\n",
      "pH                      0\n",
      "sulphates               0\n",
      "alcohol                 0\n",
      "quality                 0\n",
      "type                    0\n",
      "dtype: int64\n"
     ]
    }
   ],
   "source": [
    "csv_path = \"Data/Real_Datasets/wine_processed.csv\"\n",
    "# Load your data\n",
    "df = pd.read_csv(\"Data/Real_Datasets/wine_processed.csv\")\n",
    "\n",
    "# Optional: Check if everything is clean\n",
    "print(df.dtypes)\n",
    "print(df.isna().sum())"
   ]
  },
  {
   "cell_type": "code",
   "execution_count": null,
   "id": "2c9b2386-a74a-47a8-8731-87982705284b",
   "metadata": {},
   "outputs": [
    {
     "name": "stdout",
     "output_type": "stream",
     "text": [
      "================ Constructing Bayesian Network (BN) ================\n",
      "Adding ROOT total sulfur dioxide\n",
      "Adding attribute type\n",
      "Adding attribute free sulfur dioxide\n",
      "Adding attribute chlorides\n",
      "Adding attribute residual sugar\n",
      "Adding attribute alcohol\n",
      "Adding attribute pH\n",
      "Adding attribute volatile acidity\n",
      "Adding attribute sulphates\n",
      "Adding attribute density\n",
      "Adding attribute fixed acidity\n",
      "Adding attribute citric acid\n",
      "Adding attribute quality\n",
      "========================== BN constructed ==========================\n"
     ]
    }
   ],
   "source": [
    "# 2) Describe the data with the PrivBayes mechanism\n",
    "#    - `category_threshold` controls when a column is treated as categorical\n",
    "#    - You can tweak it to suit your dataset\n",
    "describer = DataDescriber(\n",
    "    category_threshold=3  # e.g. columns with ≤3 distinct values → categorical\n",
    "    \n",
    ")\n",
    "\n",
    "# 4) Tell it to read and describe the CSV in correlated‐attribute mode\n",
    "describer.describe_dataset_in_correlated_attribute_mode(\n",
    "    dataset_file=csv_path,\n",
    "    epsilon=1.0\n",
    ")\n",
    "describer.describe_dataset_in_correlated_attribute_mode(df, epsilon=1.0)"
   ]
  },
  {
   "cell_type": "raw",
   "id": "c5539e68-87b2-4989-a0fe-97e0d4c51bed",
   "metadata": {},
   "source": [
    "3) Generate synthetic data using that description"
   ]
  },
  {
   "cell_type": "code",
   "execution_count": null,
   "id": "f4f54328-1c7e-49dc-ab7a-9b6f809b46a5",
   "metadata": {},
   "outputs": [],
   "source": [
    " #3) Generate synthetic data using that description\n",
    "generator = DataGenerator()\n",
    "# This returns a pandas DataFrame of the same shape as `df`\n",
    "synthetic_df = generator.generate_synthetic_data_from_privbayes(describer, df.shape[0])\n"
   ]
  },
  {
   "cell_type": "code",
   "execution_count": null,
   "id": "3eeefd43-f25b-471f-831e-242d1119d3bb",
   "metadata": {},
   "outputs": [],
   "source": [
    "# 4) Save out\n",
    "out_path = \"Data/Synthetic_Datasets/privbayes_wine.csv\"\n",
    "synthetic_df.to_csv(out_path, index=False)\n",
    "print(\"Done! Saved synthetic data to\", out_path)"
   ]
  },
  {
   "cell_type": "code",
   "execution_count": null,
   "id": "dcab61ab-9d2e-4d92-b4a9-245ea7519496",
   "metadata": {},
   "outputs": [],
   "source": []
  }
 ],
 "metadata": {
  "kernelspec": {
   "display_name": "Python 3 (ipykernel)",
   "language": "python",
   "name": "python3"
  },
  "language_info": {
   "codemirror_mode": {
    "name": "ipython",
    "version": 3
   },
   "file_extension": ".py",
   "mimetype": "text/x-python",
   "name": "python",
   "nbconvert_exporter": "python",
   "pygments_lexer": "ipython3",
   "version": "3.9.6"
  }
 },
 "nbformat": 4,
 "nbformat_minor": 5
}

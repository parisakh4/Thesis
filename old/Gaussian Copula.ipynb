{
 "cells": [
  {
   "cell_type": "code",
   "execution_count": 1,
   "id": "f5241300-1d4e-47ac-8ab3-dffc3cd3a385",
   "metadata": {},
   "outputs": [
    {
     "name": "stdout",
     "output_type": "stream",
     "text": [
      "Requirement already satisfied: sdv in /Users/parisakhosravi/miniconda3/lib/python3.13/site-packages (1.24.0)\n",
      "Requirement already satisfied: boto3<2.0.0,>=1.28 in /Users/parisakhosravi/miniconda3/lib/python3.13/site-packages (from sdv) (1.39.1)\n",
      "Requirement already satisfied: botocore<2.0.0,>=1.31 in /Users/parisakhosravi/miniconda3/lib/python3.13/site-packages (from sdv) (1.39.1)\n",
      "Requirement already satisfied: cloudpickle>=2.1.0 in /Users/parisakhosravi/miniconda3/lib/python3.13/site-packages (from sdv) (3.1.1)\n",
      "Requirement already satisfied: graphviz>=0.13.2 in /Users/parisakhosravi/miniconda3/lib/python3.13/site-packages (from sdv) (0.21)\n",
      "Requirement already satisfied: numpy>=2.1.0 in /Users/parisakhosravi/miniconda3/lib/python3.13/site-packages (from sdv) (2.3.1)\n",
      "Requirement already satisfied: pandas>=2.2.3 in /Users/parisakhosravi/miniconda3/lib/python3.13/site-packages (from sdv) (2.3.0)\n",
      "Requirement already satisfied: tqdm>=4.29 in /Users/parisakhosravi/miniconda3/lib/python3.13/site-packages (from sdv) (4.67.1)\n",
      "Requirement already satisfied: copulas>=0.12.1 in /Users/parisakhosravi/miniconda3/lib/python3.13/site-packages (from sdv) (0.12.3)\n",
      "Requirement already satisfied: ctgan>=0.11.0 in /Users/parisakhosravi/miniconda3/lib/python3.13/site-packages (from sdv) (0.11.0)\n",
      "Requirement already satisfied: deepecho>=0.7.0 in /Users/parisakhosravi/miniconda3/lib/python3.13/site-packages (from sdv) (0.7.0)\n",
      "Requirement already satisfied: rdt>=1.17.0 in /Users/parisakhosravi/miniconda3/lib/python3.13/site-packages (from sdv) (1.17.1)\n",
      "Requirement already satisfied: sdmetrics>=0.21.0 in /Users/parisakhosravi/miniconda3/lib/python3.13/site-packages (from sdv) (0.21.0)\n",
      "Requirement already satisfied: platformdirs>=4.0 in /Users/parisakhosravi/miniconda3/lib/python3.13/site-packages (from sdv) (4.3.7)\n",
      "Requirement already satisfied: pyyaml>=6.0.1 in /Users/parisakhosravi/miniconda3/lib/python3.13/site-packages (from sdv) (6.0.2)\n",
      "Requirement already satisfied: jmespath<2.0.0,>=0.7.1 in /Users/parisakhosravi/miniconda3/lib/python3.13/site-packages (from boto3<2.0.0,>=1.28->sdv) (1.0.1)\n",
      "Requirement already satisfied: s3transfer<0.14.0,>=0.13.0 in /Users/parisakhosravi/miniconda3/lib/python3.13/site-packages (from boto3<2.0.0,>=1.28->sdv) (0.13.0)\n",
      "Requirement already satisfied: python-dateutil<3.0.0,>=2.1 in /Users/parisakhosravi/miniconda3/lib/python3.13/site-packages (from botocore<2.0.0,>=1.31->sdv) (2.9.0.post0)\n",
      "Requirement already satisfied: urllib3!=2.2.0,<3,>=1.25.4 in /Users/parisakhosravi/miniconda3/lib/python3.13/site-packages (from botocore<2.0.0,>=1.31->sdv) (2.3.0)\n",
      "Requirement already satisfied: plotly>=5.12.0 in /Users/parisakhosravi/miniconda3/lib/python3.13/site-packages (from copulas>=0.12.1->sdv) (6.2.0)\n",
      "Requirement already satisfied: scipy>=1.14.1 in /Users/parisakhosravi/miniconda3/lib/python3.13/site-packages (from copulas>=0.12.1->sdv) (1.16.0)\n",
      "Requirement already satisfied: torch>=2.6.0 in /Users/parisakhosravi/miniconda3/lib/python3.13/site-packages (from ctgan>=0.11.0->sdv) (2.7.1)\n",
      "Requirement already satisfied: pytz>=2020.1 in /Users/parisakhosravi/miniconda3/lib/python3.13/site-packages (from pandas>=2.2.3->sdv) (2025.2)\n",
      "Requirement already satisfied: tzdata>=2022.7 in /Users/parisakhosravi/miniconda3/lib/python3.13/site-packages (from pandas>=2.2.3->sdv) (2025.2)\n",
      "Requirement already satisfied: scikit-learn>=1.5.2 in /Users/parisakhosravi/miniconda3/lib/python3.13/site-packages (from rdt>=1.17.0->sdv) (1.7.0)\n",
      "Requirement already satisfied: Faker>=17 in /Users/parisakhosravi/miniconda3/lib/python3.13/site-packages (from rdt>=1.17.0->sdv) (37.4.0)\n",
      "Requirement already satisfied: narwhals>=1.15.1 in /Users/parisakhosravi/miniconda3/lib/python3.13/site-packages (from plotly>=5.12.0->copulas>=0.12.1->sdv) (1.45.0)\n",
      "Requirement already satisfied: packaging in /Users/parisakhosravi/miniconda3/lib/python3.13/site-packages (from plotly>=5.12.0->copulas>=0.12.1->sdv) (24.2)\n",
      "Requirement already satisfied: six>=1.5 in /Users/parisakhosravi/miniconda3/lib/python3.13/site-packages (from python-dateutil<3.0.0,>=2.1->botocore<2.0.0,>=1.31->sdv) (1.17.0)\n",
      "Requirement already satisfied: joblib>=1.2.0 in /Users/parisakhosravi/miniconda3/lib/python3.13/site-packages (from scikit-learn>=1.5.2->rdt>=1.17.0->sdv) (1.5.1)\n",
      "Requirement already satisfied: threadpoolctl>=3.1.0 in /Users/parisakhosravi/miniconda3/lib/python3.13/site-packages (from scikit-learn>=1.5.2->rdt>=1.17.0->sdv) (3.6.0)\n",
      "Requirement already satisfied: filelock in /Users/parisakhosravi/miniconda3/lib/python3.13/site-packages (from torch>=2.6.0->ctgan>=0.11.0->sdv) (3.18.0)\n",
      "Requirement already satisfied: typing-extensions>=4.10.0 in /Users/parisakhosravi/miniconda3/lib/python3.13/site-packages (from torch>=2.6.0->ctgan>=0.11.0->sdv) (4.12.2)\n",
      "Requirement already satisfied: setuptools in /Users/parisakhosravi/miniconda3/lib/python3.13/site-packages (from torch>=2.6.0->ctgan>=0.11.0->sdv) (78.1.1)\n",
      "Requirement already satisfied: sympy>=1.13.3 in /Users/parisakhosravi/miniconda3/lib/python3.13/site-packages (from torch>=2.6.0->ctgan>=0.11.0->sdv) (1.14.0)\n",
      "Requirement already satisfied: networkx in /Users/parisakhosravi/miniconda3/lib/python3.13/site-packages (from torch>=2.6.0->ctgan>=0.11.0->sdv) (3.5)\n",
      "Requirement already satisfied: jinja2 in /Users/parisakhosravi/miniconda3/lib/python3.13/site-packages (from torch>=2.6.0->ctgan>=0.11.0->sdv) (3.1.6)\n",
      "Requirement already satisfied: fsspec in /Users/parisakhosravi/miniconda3/lib/python3.13/site-packages (from torch>=2.6.0->ctgan>=0.11.0->sdv) (2025.5.1)\n",
      "Requirement already satisfied: mpmath<1.4,>=1.1.0 in /Users/parisakhosravi/miniconda3/lib/python3.13/site-packages (from sympy>=1.13.3->torch>=2.6.0->ctgan>=0.11.0->sdv) (1.3.0)\n",
      "Requirement already satisfied: MarkupSafe>=2.0 in /Users/parisakhosravi/miniconda3/lib/python3.13/site-packages (from jinja2->torch>=2.6.0->ctgan>=0.11.0->sdv) (3.0.2)\n"
     ]
    }
   ],
   "source": [
    "!pip install sdv\n"
   ]
  },
  {
   "cell_type": "code",
   "execution_count": 12,
   "id": "7d7f76ce-820f-42ec-94cb-b3ea5d7eb97b",
   "metadata": {},
   "outputs": [],
   "source": [
    "import os\n",
    "import time\n",
    "import pandas as pd\n",
    "import numpy as np\n",
    "from sdv.single_table import GaussianCopulaSynthesizer\n",
    "from sdv.metadata import SingleTableMetadata\n",
    "from sklearn.metrics import mean_absolute_error\n",
    "from scipy.spatial.distance import cdist\n",
    "\n",
    "def run_gaussian_experiment(run_id=1, default_distribution='norm'):\n",
    "    # === File paths ===\n",
    "    real_path = \"Data/Real_Datasets/wine_processed_dedu.csv\"\n",
    "    fake_dir = \"Data/Synthetic_Datasets/GaussianCopula\"\n",
    "    fake_path = os.path.join(fake_dir, f\"fake_run_{run_id}.csv\")\n",
    "    log_path = \"gaussian_experiment_log.csv\"\n",
    "    \n",
    "    os.makedirs(fake_dir, exist_ok=True)\n",
    "\n",
    "    # === Load data\n",
    "    df = pd.read_csv(real_path)\n",
    "    real_data = df.drop(columns=['type'], errors='ignore')  # optional: drop type\n",
    "\n",
    "    # === Detect metadata\n",
    "    metadata = SingleTableMetadata()\n",
    "    metadata.detect_from_dataframe(df)\n",
    "\n",
    "    # === Instantiate Synthesizer\n",
    "    synthesizer = GaussianCopulaSynthesizer(\n",
    "        metadata,\n",
    "        default_distribution=default_distribution\n",
    "    )\n",
    "\n",
    "    # === Train\n",
    "    t0 = time.time()\n",
    "    synthesizer.fit(df)\n",
    "    training_time = time.time() - t0\n",
    "\n",
    "    # === Sample\n",
    "    t1 = time.time()\n",
    "    fake_data = synthesizer.sample(num_rows=len(df))\n",
    "    sampling_time = time.time() - t1\n",
    "\n",
    "    # === Save synthetic data\n",
    "    fake_data.to_csv(fake_path, index=False)\n",
    "\n",
    "    # === Drop type column for numeric comparison\n",
    "    fake_data_numeric = fake_data.drop(columns=['type'], errors='ignore')\n",
    "\n",
    "    # === Correlation metrics\n",
    "    pearson_mae = mean_absolute_error(\n",
    "        real_data.corr().values.flatten(),\n",
    "        fake_data_numeric.corr().values.flatten()\n",
    "    )\n",
    "    spearman_mae = mean_absolute_error(\n",
    "        real_data.corr(method='spearman').values.flatten(),\n",
    "        fake_data_numeric.corr(method='spearman').values.flatten()\n",
    "    )\n",
    "\n",
    "    # === Distance metrics\n",
    "    dist_rf = cdist(real_data.values, fake_data_numeric.values)\n",
    "    dist_rr = cdist(real_data.values, real_data.values)\n",
    "    np.fill_diagonal(dist_rr, np.inf)\n",
    "    min_rf = np.min(dist_rf)\n",
    "    min_rr = np.min(dist_rr)\n",
    "\n",
    "    # === Log results\n",
    "    row = {\n",
    "        'run_id': run_id,\n",
    "        'distribution': default_distribution,\n",
    "        'pearson_mae': round(pearson_mae, 4),\n",
    "        'spearman_mae': round(spearman_mae, 4),\n",
    "        'min_real_fake_dist': round(min_rf, 4),\n",
    "        'min_real_real_dist': round(min_rr, 4),\n",
    "        'training_time': round(training_time, 2),\n",
    "        'total_runtime': round(sampling_time, 2)\n",
    "    }\n",
    "\n",
    "    if not os.path.exists(log_path):\n",
    "        pd.DataFrame([row]).to_csv(log_path, index=False)\n",
    "    else:\n",
    "        pd.DataFrame([row]).to_csv(log_path, mode='a', index=False, header=False)\n",
    "\n",
    "    print(\"Finished GaussianCopula run\", run_id)\n",
    "    print(row)\n",
    "\n",
    "    return fake_data, row\n"
   ]
  },
  {
   "cell_type": "code",
   "execution_count": 22,
   "id": "3e3f057b-2542-489f-8e8c-2ea2f89554fd",
   "metadata": {},
   "outputs": [
    {
     "name": "stderr",
     "output_type": "stream",
     "text": [
      "/Users/parisakhosravi/Library/Python/3.9/lib/python/site-packages/sdv/single_table/base.py:144: FutureWarning:\n",
      "\n",
      "The 'SingleTableMetadata' is deprecated. Please use the new 'Metadata' class for synthesizers.\n",
      "\n",
      "/Users/parisakhosravi/Library/Python/3.9/lib/python/site-packages/sdv/single_table/base.py:122: UserWarning:\n",
      "\n",
      "We strongly recommend saving the metadata using 'save_to_json' for replicability in future SDV versions.\n",
      "\n"
     ]
    },
    {
     "name": "stdout",
     "output_type": "stream",
     "text": [
      "Finished GaussianCopula run 7\n",
      "{'run_id': 7, 'distribution': 'norm', 'pearson_mae': 0.0131, 'spearman_mae': 0.0386, 'min_real_fake_dist': np.float64(0.6492), 'min_real_real_dist': np.float64(0.0078), 'training_time': 0.09, 'total_runtime': 0.02}\n"
     ]
    }
   ],
   "source": [
    "fake_data, log = run_gaussian_experiment(run_id=7, default_distribution='norm')\n"
   ]
  },
  {
   "cell_type": "code",
   "execution_count": 9,
   "id": "1f0b3323-aa83-4d73-a11b-8099e8485265",
   "metadata": {},
   "outputs": [],
   "source": [
    "from sdv.single_table import GaussianCopulaSynthesizer\n",
    "from sdv.metadata import Metadata\n",
    "import pandas as pd"
   ]
  },
  {
   "cell_type": "code",
   "execution_count": 29,
   "id": "c2d7c457-a6f5-46cd-ace0-c0d1f16213ff",
   "metadata": {},
   "outputs": [
    {
     "name": "stdout",
     "output_type": "stream",
     "text": [
      "{'RR_median': 0.9774631429422356, 'RR_p05': 0.23142579653857615, 'RR_p01': 0.07714061450996036, 'FR_median': 1.6664879305859701, 'FR_p05': 1.1013692670950037, 'pct_FR_below_RR1pct': 0.0, 'near_dup_rate': 0.0, 'eps_used': 0.009774631429422356}\n"
     ]
    }
   ],
   "source": [
    "import numpy as np\n",
    "import pandas as pd\n",
    "from sklearn.neighbors import NearestNeighbors\n",
    "\n",
    "# 1) Loading data\n",
    "real_df  = pd.read_csv(\"Data/Real_Datasets/wine_processed_dedu.csv\")   \n",
    "synth_df = pd.read_csv('Data/Synthetic_Datasets/GaussianCopula/fake_run_5.csv')    \n",
    "\n",
    "\n",
    "# 2) Dropping 'type' and keeping numeric columns only \n",
    "for df in (real_df, synth_df):\n",
    "    if \"type\" in df.columns:\n",
    "        df.drop(columns=[\"type\"], inplace=True)\n",
    "\n",
    "# Align columns/order to the real data\n",
    "numeric_cols = real_df.select_dtypes(include=[np.number]).columns.tolist()\n",
    "synth_df = synth_df[numeric_cols]\n",
    "\n",
    "Xr = real_df[numeric_cols].to_numpy(dtype=float)\n",
    "Xf = synth_df[numeric_cols].to_numpy(dtype=float)\n",
    "\n",
    "if Xr.shape[0] < 3 or Xr.shape[1] == 0:\n",
    "    raise ValueError(\"Not enough rows/columns to compute distances.\")\n",
    "\n",
    "# 3) Real→Real baseline: nearest OTHER real (k=2, take index 1) \n",
    "nn_rr = NearestNeighbors(n_neighbors=2, metric=\"euclidean\").fit(Xr)\n",
    "dist_rr, _ = nn_rr.kneighbors(Xr, return_distance=True)\n",
    "rr_other = dist_rr[:, 1]\n",
    "\n",
    "RR_median = float(np.median(rr_other))\n",
    "RR_p05    = float(np.percentile(rr_other, 5))\n",
    "RR_p01    = float(np.percentile(rr_other, 1))\n",
    "\n",
    "# 4) Fake→Real distances (k=2 for NNDR too) \n",
    "nn_fr = NearestNeighbors(n_neighbors=2, metric=\"euclidean\").fit(Xr)\n",
    "dist_fr, _ = nn_fr.kneighbors(Xf, return_distance=True)\n",
    "fr1, fr2 = dist_fr[:, 0], dist_fr[:, 1]\n",
    "\n",
    "FR_median = float(np.median(fr1))\n",
    "FR_p05    = float(np.percentile(fr1, 5))\n",
    "pct_FR_below_RR1pct = float(np.mean(fr1 < RR_p01) * 100.0)\n",
    "\n",
    "# Adaptive near-duplicate threshold = 1% of typical RR spacing\n",
    "eps = 0.01 * RR_median if RR_median > 0 else 0.0\n",
    "near_dup_rate = float(np.mean(fr1 < eps) * 100.0)\n",
    "\n",
    "\n",
    "# 5) Print results \n",
    "print({\n",
    "    \"RR_median\": RR_median,\n",
    "    \"RR_p05\": RR_p05,\n",
    "    \"RR_p01\": RR_p01,\n",
    "    \"FR_median\": FR_median,\n",
    "    \"FR_p05\": FR_p05,\n",
    "    \"pct_FR_below_RR1pct\": pct_FR_below_RR1pct,  # <= ~2% ok; >5% red flag\n",
    "    \"near_dup_rate\": near_dup_rate,              # should be ~0%\n",
    "    \"eps_used\": eps, \n",
    "})\n"
   ]
  },
  {
   "cell_type": "code",
   "execution_count": 10,
   "id": "a219ff83-a974-4d58-9fac-bf0382ca8f35",
   "metadata": {},
   "outputs": [],
   "source": [
    "df = pd.read_csv(\"Data/Real_Datasets/wine_processed.csv\")"
   ]
  },
  {
   "cell_type": "code",
   "execution_count": 16,
   "id": "e64943b9-bd08-4e65-b7d9-1549c7da8ff8",
   "metadata": {},
   "outputs": [],
   "source": [
    "# Define your metadata\n",
    "metadata = SingleTableMetadata()\n",
    "metadata.detect_from_dataframe(df)\n",
    "\n",
    "# (Optional) Save for reproducibility\n",
    "metadata.save_to_json(\"my_metadata.json\")"
   ]
  },
  {
   "cell_type": "code",
   "execution_count": 17,
   "id": "037eb362-d21e-43cb-aeab-102a07560ebb",
   "metadata": {},
   "outputs": [
    {
     "name": "stderr",
     "output_type": "stream",
     "text": [
      "/Users/parisakhosravi/Library/Python/3.9/lib/python/site-packages/sdv/single_table/base.py:144: FutureWarning:\n",
      "\n",
      "The 'SingleTableMetadata' is deprecated. Please use the new 'Metadata' class for synthesizers.\n",
      "\n"
     ]
    }
   ],
   "source": [
    "synthesizer = GaussianCopulaSynthesizer(metadata)"
   ]
  },
  {
   "cell_type": "code",
   "execution_count": 19,
   "id": "f5a0426e-22d6-4a53-803a-9adab0ddfc42",
   "metadata": {},
   "outputs": [],
   "source": [
    "# 4. Fit model\n",
    "synthesizer.fit(df)"
   ]
  },
  {
   "cell_type": "code",
   "execution_count": 20,
   "id": "197f1477-c529-4de3-9b92-76b9953717cb",
   "metadata": {},
   "outputs": [
    {
     "name": "stdout",
     "output_type": "stream",
     "text": [
      "✅ Saved: Data/Synthetic_Datasets/GaussianCopula/fake_gaussian_data_1.csv\n",
      "✅ Saved: Data/Synthetic_Datasets/GaussianCopula/fake_gaussian_data_2.csv\n",
      "✅ Saved: Data/Synthetic_Datasets/GaussianCopula/fake_gaussian_data_3.csv\n",
      "✅ Saved: Data/Synthetic_Datasets/GaussianCopula/fake_gaussian_data_4.csv\n",
      "✅ Saved: Data/Synthetic_Datasets/GaussianCopula/fake_gaussian_data_5.csv\n"
     ]
    }
   ],
   "source": [
    "# Generate and save 5 synthetic datasets\n",
    "for i in range(1, 6):\n",
    "    synthetic_data = synthesizer.sample(num_rows=len(df))\n",
    "    path = f\"Data/Synthetic_Datasets/GaussianCopula/fake_gaussian_data_{i}.csv\"\n",
    "    synthetic_data.to_csv(path, index=False)\n",
    "    print(f\"✅ Saved: {path}\")"
   ]
  },
  {
   "cell_type": "code",
   "execution_count": null,
   "id": "6fd9f62c-f871-4f34-85a9-909457f4aeaa",
   "metadata": {},
   "outputs": [],
   "source": [
    "# 5. Generate synthetic data\n",
    "synthetic_data = synthesizer.sample(num_rows=len(df))"
   ]
  },
  {
   "cell_type": "code",
   "execution_count": null,
   "id": "c84ce21f-4faa-4d67-b538-9e59bdf11454",
   "metadata": {},
   "outputs": [],
   "source": [
    "# 6. Save synthetic dataset\n",
    "synthetic_data.to_csv(\"Data/Synthetic_Datasets/GaussianCopula/fake_gaussian_data.csv\", index=False)"
   ]
  }
 ],
 "metadata": {
  "kernelspec": {
   "display_name": "Python 3 (ipykernel)",
   "language": "python",
   "name": "python3"
  },
  "language_info": {
   "codemirror_mode": {
    "name": "ipython",
    "version": 3
   },
   "file_extension": ".py",
   "mimetype": "text/x-python",
   "name": "python",
   "nbconvert_exporter": "python",
   "pygments_lexer": "ipython3",
   "version": "3.9.6"
  }
 },
 "nbformat": 4,
 "nbformat_minor": 5
}
